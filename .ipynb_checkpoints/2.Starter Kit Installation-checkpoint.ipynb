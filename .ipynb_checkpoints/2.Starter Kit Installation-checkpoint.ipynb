{
 "cells": [
  {
   "cell_type": "markdown",
   "metadata": {},
   "source": [
    "## Starter Kit Installation\n",
    "In this term, you'll use Python 3 for programming quizzes, labs, and projects. The following will guide you through setting up the programming environment on your local machine.\n",
    "\n",
    "There are two ways to get up and running:\n",
    "\n",
    "Anaconda\n",
    "Docker\n",
    "We recommend you first try setting up your environment with Anaconda. It's faster to get up and running and has fewer moving parts.\n",
    "\n",
    "If the Anaconda installation gives you trouble, try Docker instead.\n",
    "\n",
    "Follow the instructions in this README.\n",
    "\n",
    "Here is a great link for learning more about Anaconda and Jupyter Notebooks."
   ]
  },
  {
   "cell_type": "code",
   "execution_count": null,
   "metadata": {
    "collapsed": true
   },
   "outputs": [],
   "source": []
  }
 ],
 "metadata": {
  "kernelspec": {
   "display_name": "Python 3",
   "language": "python",
   "name": "python3"
  }
 },
 "nbformat": 4,
 "nbformat_minor": 2
}

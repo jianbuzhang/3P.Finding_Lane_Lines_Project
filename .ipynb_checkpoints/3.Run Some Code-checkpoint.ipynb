{
 "cells": [
  {
   "cell_type": "markdown",
   "metadata": {},
   "source": [
    "## 3.Run Some Code\n",
    "Now that everything is installed, let's make sure it's working!\n",
    "\n",
    "1.Clone and navigate to the starter kit test repository.\n",
    "\n",
    "### NOTE: This is DIFFERENT from  https://github.com/udacity/CarND-Term1-Starter-Kit.git\n",
    "git clone https://github.com/udacity/CarND-Term1-Starter-Kit-Test.git\n",
    "cd CarND-Term1-Starter-Kit-Test"
   ]
  },
  {
   "cell_type": "markdown",
   "metadata": {},
   "source": [
    "2.Launch the Jupyter notebook with Anaconda or Docker. This notebook is simply to make sure the installed packages are working properly. The instructions for the first project are on the next page."
   ]
  },
  {
   "cell_type": "markdown",
   "metadata": {},
   "source": [
    "### Anaconda\n",
    "source activate carnd-term1 # If currently deactivated, i.e. start of a new terminal session\n",
    "jupyter notebook test.ipynb"
   ]
  },
  {
   "cell_type": "markdown",
   "metadata": {},
   "source": [
    "### Docker\n",
    "docker run -it --rm -p 8888:8888 -v ${pwd}:/src udacity/carnd-term1-starter-kit test.ipynb\n",
    "### OR\n",
    "docker run -it --rm -p 8888:8888 -v `pwd`:/src udacity/carnd-term1-starter-kit test.ipynb"
   ]
  },
  {
   "cell_type": "markdown",
   "metadata": {},
   "source": [
    "Go to http://localhost:8888/notebooks/test.ipynb in your browser and run all the cells. Everything should execute without error."
   ]
  },
  {
   "cell_type": "markdown",
   "metadata": {},
   "source": [
    "Troubleshooting\n",
    "\n",
    "ffmpeg\n",
    "\n",
    "NOTE: If you don't have ffmpeg installed on your computer you'll have to install it for moviepy to work. If this is the case you'll be prompted by an error in the notebook. You can easily install ffmpeg by running the following in a code cell in the notebook.\n",
    "\n",
    "import imageio\n",
    "imageio.plugins.ffmpeg.download()\n",
    "Once it's installed, moviepy should work.\n",
    "\n",
    "Docker\n",
    "To get the latest version of the docker image, you may need to run:\n",
    "\n",
    "docker pull udacity/carnd-term1-starter-kit\n",
    "Warning! The image is ~2GB!"
   ]
  },
  {
   "cell_type": "code",
   "execution_count": null,
   "metadata": {
    "collapsed": true
   },
   "outputs": [],
   "source": []
  }
 ],
 "metadata": {
  "kernelspec": {
   "display_name": "Python 3",
   "language": "python",
   "name": "python3"
  },
  "language_info": {
   "codemirror_mode": {
    "name": "ipython",
    "version": 3
   },
   "file_extension": ".py",
   "mimetype": "text/x-python",
   "name": "python",
   "nbconvert_exporter": "python",
   "pygments_lexer": "ipython3",
   "version": "3.6.3"
  }
 },
 "nbformat": 4,
 "nbformat_minor": 2
}
